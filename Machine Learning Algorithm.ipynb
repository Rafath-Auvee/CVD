{
 "cells": [
  {
   "cell_type": "code",
   "execution_count": 63,
   "id": "d36bf803",
   "metadata": {},
   "outputs": [],
   "source": [
    "import numpy as np\n",
    "import pandas as pd\n",
    "import warnings\n",
    "import matplotlib.pyplot as plt\n",
    "import seaborn as sns\n",
    "import datetime\n",
    "\n",
    "import joblib\n",
    "from sklearn.metrics import classification_report\n",
    "from sklearn.metrics import f1_score, precision_score, recall_score\n",
    "from sklearn.metrics import accuracy_score, roc_auc_score, confusion_matrix, classification_report\n",
    "from sklearn.metrics import roc_curve, auc\n",
    "\n",
    "from datetime import timedelta\n",
    "warnings.filterwarnings('ignore')"
   ]
  },
  {
   "cell_type": "code",
   "execution_count": 64,
   "id": "f8c101fb",
   "metadata": {},
   "outputs": [],
   "source": [
    "data = pd.read_csv(\"cardio_train.csv\")"
   ]
  },
  {
   "cell_type": "markdown",
   "id": "d06a687a",
   "metadata": {},
   "source": [
    "# Overview "
   ]
  },
  {
   "cell_type": "code",
   "execution_count": 65,
   "id": "57f8dadb",
   "metadata": {},
   "outputs": [
    {
     "data": {
      "text/html": [
       "<div>\n",
       "<style scoped>\n",
       "    .dataframe tbody tr th:only-of-type {\n",
       "        vertical-align: middle;\n",
       "    }\n",
       "\n",
       "    .dataframe tbody tr th {\n",
       "        vertical-align: top;\n",
       "    }\n",
       "\n",
       "    .dataframe thead th {\n",
       "        text-align: right;\n",
       "    }\n",
       "</style>\n",
       "<table border=\"1\" class=\"dataframe\">\n",
       "  <thead>\n",
       "    <tr style=\"text-align: right;\">\n",
       "      <th></th>\n",
       "      <th>id</th>\n",
       "      <th>age</th>\n",
       "      <th>gender</th>\n",
       "      <th>height</th>\n",
       "      <th>weight</th>\n",
       "      <th>ap_hi</th>\n",
       "      <th>ap_lo</th>\n",
       "      <th>cholesterol</th>\n",
       "      <th>gluc</th>\n",
       "      <th>smoke</th>\n",
       "      <th>alco</th>\n",
       "      <th>active</th>\n",
       "      <th>cardio</th>\n",
       "    </tr>\n",
       "  </thead>\n",
       "  <tbody>\n",
       "    <tr>\n",
       "      <th>0</th>\n",
       "      <td>0</td>\n",
       "      <td>18393</td>\n",
       "      <td>2</td>\n",
       "      <td>168</td>\n",
       "      <td>62.0</td>\n",
       "      <td>110</td>\n",
       "      <td>80</td>\n",
       "      <td>1</td>\n",
       "      <td>1</td>\n",
       "      <td>0</td>\n",
       "      <td>0</td>\n",
       "      <td>1</td>\n",
       "      <td>0</td>\n",
       "    </tr>\n",
       "    <tr>\n",
       "      <th>1</th>\n",
       "      <td>1</td>\n",
       "      <td>20228</td>\n",
       "      <td>1</td>\n",
       "      <td>156</td>\n",
       "      <td>85.0</td>\n",
       "      <td>140</td>\n",
       "      <td>90</td>\n",
       "      <td>3</td>\n",
       "      <td>1</td>\n",
       "      <td>0</td>\n",
       "      <td>0</td>\n",
       "      <td>1</td>\n",
       "      <td>1</td>\n",
       "    </tr>\n",
       "    <tr>\n",
       "      <th>2</th>\n",
       "      <td>2</td>\n",
       "      <td>18857</td>\n",
       "      <td>1</td>\n",
       "      <td>165</td>\n",
       "      <td>64.0</td>\n",
       "      <td>130</td>\n",
       "      <td>70</td>\n",
       "      <td>3</td>\n",
       "      <td>1</td>\n",
       "      <td>0</td>\n",
       "      <td>0</td>\n",
       "      <td>0</td>\n",
       "      <td>1</td>\n",
       "    </tr>\n",
       "    <tr>\n",
       "      <th>3</th>\n",
       "      <td>3</td>\n",
       "      <td>17623</td>\n",
       "      <td>2</td>\n",
       "      <td>169</td>\n",
       "      <td>82.0</td>\n",
       "      <td>150</td>\n",
       "      <td>100</td>\n",
       "      <td>1</td>\n",
       "      <td>1</td>\n",
       "      <td>0</td>\n",
       "      <td>0</td>\n",
       "      <td>1</td>\n",
       "      <td>1</td>\n",
       "    </tr>\n",
       "    <tr>\n",
       "      <th>4</th>\n",
       "      <td>4</td>\n",
       "      <td>17474</td>\n",
       "      <td>1</td>\n",
       "      <td>156</td>\n",
       "      <td>56.0</td>\n",
       "      <td>100</td>\n",
       "      <td>60</td>\n",
       "      <td>1</td>\n",
       "      <td>1</td>\n",
       "      <td>0</td>\n",
       "      <td>0</td>\n",
       "      <td>0</td>\n",
       "      <td>0</td>\n",
       "    </tr>\n",
       "  </tbody>\n",
       "</table>\n",
       "</div>"
      ],
      "text/plain": [
       "   id    age  gender  height  weight  ap_hi  ap_lo  cholesterol  gluc  smoke  \\\n",
       "0   0  18393       2     168    62.0    110     80            1     1      0   \n",
       "1   1  20228       1     156    85.0    140     90            3     1      0   \n",
       "2   2  18857       1     165    64.0    130     70            3     1      0   \n",
       "3   3  17623       2     169    82.0    150    100            1     1      0   \n",
       "4   4  17474       1     156    56.0    100     60            1     1      0   \n",
       "\n",
       "   alco  active  cardio  \n",
       "0     0       1       0  \n",
       "1     0       1       1  \n",
       "2     0       0       1  \n",
       "3     0       1       1  \n",
       "4     0       0       0  "
      ]
     },
     "execution_count": 65,
     "metadata": {},
     "output_type": "execute_result"
    }
   ],
   "source": [
    "data.head()"
   ]
  },
  {
   "cell_type": "code",
   "execution_count": 66,
   "id": "f011bf13",
   "metadata": {},
   "outputs": [
    {
     "data": {
      "text/plain": [
       "(70000, 13)"
      ]
     },
     "execution_count": 66,
     "metadata": {},
     "output_type": "execute_result"
    }
   ],
   "source": [
    "data.shape"
   ]
  },
  {
   "cell_type": "markdown",
   "id": "3b6d2f48",
   "metadata": {},
   "source": [
    "# Checking Missing Value"
   ]
  },
  {
   "cell_type": "code",
   "execution_count": 67,
   "id": "3abc938f",
   "metadata": {},
   "outputs": [
    {
     "data": {
      "text/plain": [
       "0"
      ]
     },
     "execution_count": 67,
     "metadata": {},
     "output_type": "execute_result"
    }
   ],
   "source": [
    "data.isnull().sum().sum()"
   ]
  },
  {
   "cell_type": "code",
   "execution_count": 68,
   "id": "1fec87c8",
   "metadata": {
    "scrolled": true
   },
   "outputs": [
    {
     "data": {
      "text/plain": [
       "id             0\n",
       "age            0\n",
       "gender         0\n",
       "height         0\n",
       "weight         0\n",
       "ap_hi          0\n",
       "ap_lo          0\n",
       "cholesterol    0\n",
       "gluc           0\n",
       "smoke          0\n",
       "alco           0\n",
       "active         0\n",
       "cardio         0\n",
       "dtype: int64"
      ]
     },
     "execution_count": 68,
     "metadata": {},
     "output_type": "execute_result"
    }
   ],
   "source": [
    "data.isnull().sum()"
   ]
  },
  {
   "cell_type": "markdown",
   "id": "23b34f54",
   "metadata": {},
   "source": [
    "# For X and Y column "
   ]
  },
  {
   "cell_type": "code",
   "execution_count": 69,
   "id": "5926bde8",
   "metadata": {},
   "outputs": [],
   "source": [
    "X=data.iloc[:,1:-1]\n",
    "Y=data.iloc[:,-1:]"
   ]
  },
  {
   "cell_type": "markdown",
   "id": "cebd0687",
   "metadata": {},
   "source": [
    "# Before Remove Outlier"
   ]
  },
  {
   "cell_type": "code",
   "execution_count": 70,
   "id": "1e847c1f",
   "metadata": {},
   "outputs": [
    {
     "data": {
      "image/png": "[encoded data removed]",
      "text/plain": [
       "<Figure size 432x288 with 1 Axes>"
      ]
     },
     "metadata": {
      "needs_background": "light"
     },
     "output_type": "display_data"
    },
    {
     "data": {
      "image/png": "[encoded data removed]",
      "text/plain": [
       "<Figure size 1440x360 with 1 Axes>"
      ]
     },
     "metadata": {
      "needs_background": "light"
     },
     "output_type": "display_data"
    },
    {
     "data": {
      "image/png": "[encoded data removed]",
      "text/plain": [
       "<Figure size 1440x360 with 1 Axes>"
      ]
     },
     "metadata": {
      "needs_background": "light"
     },
     "output_type": "display_data"
    },
    {
     "data": {
      "image/png": "[encoded data removed]",
      "text/plain": [
       "<Figure size 1440x360 with 1 Axes>"
      ]
     },
     "metadata": {
      "needs_background": "light"
     },
     "output_type": "display_data"
    },
    {
     "data": {
      "text/plain": [
       "<Figure size 1440x360 with 0 Axes>"
      ]
     },
     "metadata": {},
     "output_type": "display_data"
    }
   ],
   "source": [
    "for i in data.iloc[:,3:7]:\n",
    "    sns.boxplot(data[i])\n",
    "    plt.figure(figsize=(20,5))"
   ]
  },
  {
   "cell_type": "markdown",
   "id": "18946176",
   "metadata": {},
   "source": [
    "# Outlier Detect and Handle Function"
   ]
  },
  {
   "cell_type": "code",
   "execution_count": 71,
   "id": "10be5c4d",
   "metadata": {},
   "outputs": [],
   "source": [
    "def outlier(coloumn):\n",
    "    Q1 = coloumn.quantile(0.25)\n",
    "    Q3 = coloumn.quantile(0.75)\n",
    "    IQR = Q3 - Q1\n",
    "    whisker_width = 1.5\n",
    "    lower_whisker = Q1 -(whisker_width*IQR)\n",
    "    upper_whisker = Q3 + (whisker_width*IQR)\n",
    "    coloumn=np.where(coloumn>upper_whisker,upper_whisker,np.where(coloumn<lower_whisker,lower_whisker,coloumn))\n",
    "    #sns.boxplot(coloumn)\n",
    "    return coloumn"
   ]
  },
  {
   "cell_type": "markdown",
   "id": "2e5cfdfc",
   "metadata": {},
   "source": [
    "# Handle Outlier"
   ]
  },
  {
   "cell_type": "code",
   "execution_count": 72,
   "id": "919e7121",
   "metadata": {},
   "outputs": [
    {
     "data": {
      "image/png": "[encoded data removed]",
      "text/plain": [
       "<Figure size 432x288 with 1 Axes>"
      ]
     },
     "metadata": {
      "needs_background": "light"
     },
     "output_type": "display_data"
    },
    {
     "data": {
      "image/png": "[encoded data removed]",
      "text/plain": [
       "<Figure size 1440x360 with 1 Axes>"
      ]
     },
     "metadata": {
      "needs_background": "light"
     },
     "output_type": "display_data"
    },
    {
     "data": {
      "image/png": "[encoded data removed]",
      "text/plain": [
       "<Figure size 1440x360 with 1 Axes>"
      ]
     },
     "metadata": {
      "needs_background": "light"
     },
     "output_type": "display_data"
    },
    {
     "data": {
      "image/png": "[encoded data removed]",
      "text/plain": [
       "<Figure size 1440x360 with 1 Axes>"
      ]
     },
     "metadata": {
      "needs_background": "light"
     },
     "output_type": "display_data"
    },
    {
     "data": {
      "text/plain": [
       "<Figure size 1440x360 with 0 Axes>"
      ]
     },
     "metadata": {},
     "output_type": "display_data"
    }
   ],
   "source": [
    "for i in data.iloc[:,3:7]:\n",
    "    data[i] = outlier(data[i])\n",
    "    sns.boxplot(data[i])\n",
    "    plt.figure(figsize=(20,5))"
   ]
  },
  {
   "cell_type": "markdown",
   "id": "362a7b02",
   "metadata": {},
   "source": [
    "# Convert Days to Year and Handle Outlier "
   ]
  },
  {
   "cell_type": "code",
   "execution_count": 73,
   "id": "ac066446",
   "metadata": {},
   "outputs": [],
   "source": [
    "data['age'] = (data['age'] / 365).round().astype('int')\n",
    "data['age'] = outlier(data['age'])"
   ]
  },
  {
   "cell_type": "code",
   "execution_count": 74,
   "id": "6c4a54d0",
   "metadata": {},
   "outputs": [
    {
     "data": {
      "text/html": [
       "<div>\n",
       "<style scoped>\n",
       "    .dataframe tbody tr th:only-of-type {\n",
       "        vertical-align: middle;\n",
       "    }\n",
       "\n",
       "    .dataframe tbody tr th {\n",
       "        vertical-align: top;\n",
       "    }\n",
       "\n",
       "    .dataframe thead th {\n",
       "        text-align: right;\n",
       "    }\n",
       "</style>\n",
       "<table border=\"1\" class=\"dataframe\">\n",
       "  <thead>\n",
       "    <tr style=\"text-align: right;\">\n",
       "      <th></th>\n",
       "      <th>id</th>\n",
       "      <th>age</th>\n",
       "      <th>gender</th>\n",
       "      <th>height</th>\n",
       "      <th>weight</th>\n",
       "      <th>ap_hi</th>\n",
       "      <th>ap_lo</th>\n",
       "      <th>cholesterol</th>\n",
       "      <th>gluc</th>\n",
       "      <th>smoke</th>\n",
       "      <th>alco</th>\n",
       "      <th>active</th>\n",
       "      <th>cardio</th>\n",
       "    </tr>\n",
       "  </thead>\n",
       "  <tbody>\n",
       "    <tr>\n",
       "      <th>0</th>\n",
       "      <td>0</td>\n",
       "      <td>50.0</td>\n",
       "      <td>2</td>\n",
       "      <td>168.0</td>\n",
       "      <td>62.0</td>\n",
       "      <td>110.0</td>\n",
       "      <td>80.0</td>\n",
       "      <td>1</td>\n",
       "      <td>1</td>\n",
       "      <td>0</td>\n",
       "      <td>0</td>\n",
       "      <td>1</td>\n",
       "      <td>0</td>\n",
       "    </tr>\n",
       "    <tr>\n",
       "      <th>1</th>\n",
       "      <td>1</td>\n",
       "      <td>55.0</td>\n",
       "      <td>1</td>\n",
       "      <td>156.0</td>\n",
       "      <td>85.0</td>\n",
       "      <td>140.0</td>\n",
       "      <td>90.0</td>\n",
       "      <td>3</td>\n",
       "      <td>1</td>\n",
       "      <td>0</td>\n",
       "      <td>0</td>\n",
       "      <td>1</td>\n",
       "      <td>1</td>\n",
       "    </tr>\n",
       "    <tr>\n",
       "      <th>2</th>\n",
       "      <td>2</td>\n",
       "      <td>52.0</td>\n",
       "      <td>1</td>\n",
       "      <td>165.0</td>\n",
       "      <td>64.0</td>\n",
       "      <td>130.0</td>\n",
       "      <td>70.0</td>\n",
       "      <td>3</td>\n",
       "      <td>1</td>\n",
       "      <td>0</td>\n",
       "      <td>0</td>\n",
       "      <td>0</td>\n",
       "      <td>1</td>\n",
       "    </tr>\n",
       "    <tr>\n",
       "      <th>3</th>\n",
       "      <td>3</td>\n",
       "      <td>48.0</td>\n",
       "      <td>2</td>\n",
       "      <td>169.0</td>\n",
       "      <td>82.0</td>\n",
       "      <td>150.0</td>\n",
       "      <td>100.0</td>\n",
       "      <td>1</td>\n",
       "      <td>1</td>\n",
       "      <td>0</td>\n",
       "      <td>0</td>\n",
       "      <td>1</td>\n",
       "      <td>1</td>\n",
       "    </tr>\n",
       "    <tr>\n",
       "      <th>4</th>\n",
       "      <td>4</td>\n",
       "      <td>48.0</td>\n",
       "      <td>1</td>\n",
       "      <td>156.0</td>\n",
       "      <td>56.0</td>\n",
       "      <td>100.0</td>\n",
       "      <td>65.0</td>\n",
       "      <td>1</td>\n",
       "      <td>1</td>\n",
       "      <td>0</td>\n",
       "      <td>0</td>\n",
       "      <td>0</td>\n",
       "      <td>0</td>\n",
       "    </tr>\n",
       "  </tbody>\n",
       "</table>\n",
       "</div>"
      ],
      "text/plain": [
       "   id   age  gender  height  weight  ap_hi  ap_lo  cholesterol  gluc  smoke  \\\n",
       "0   0  50.0       2   168.0    62.0  110.0   80.0            1     1      0   \n",
       "1   1  55.0       1   156.0    85.0  140.0   90.0            3     1      0   \n",
       "2   2  52.0       1   165.0    64.0  130.0   70.0            3     1      0   \n",
       "3   3  48.0       2   169.0    82.0  150.0  100.0            1     1      0   \n",
       "4   4  48.0       1   156.0    56.0  100.0   65.0            1     1      0   \n",
       "\n",
       "   alco  active  cardio  \n",
       "0     0       1       0  \n",
       "1     0       1       1  \n",
       "2     0       0       1  \n",
       "3     0       1       1  \n",
       "4     0       0       0  "
      ]
     },
     "execution_count": 74,
     "metadata": {},
     "output_type": "execute_result"
    }
   ],
   "source": [
    "data.head()"
   ]
  },
  {
   "cell_type": "code",
   "execution_count": 75,
   "id": "805922d8",
   "metadata": {},
   "outputs": [],
   "source": [
    "X=data.iloc[:,1:-1]\n",
    "Y=data.iloc[:,-1:]"
   ]
  },
  {
   "cell_type": "markdown",
   "id": "8aba80a4",
   "metadata": {},
   "source": [
    "# Applying Standard Scaler"
   ]
  },
  {
   "cell_type": "code",
   "execution_count": 76,
   "id": "1f683764",
   "metadata": {},
   "outputs": [],
   "source": [
    "from sklearn.preprocessing import StandardScaler, MinMaxScaler"
   ]
  },
  {
   "cell_type": "code",
   "execution_count": 77,
   "id": "3afda989",
   "metadata": {},
   "outputs": [],
   "source": [
    "sc = StandardScaler()\n",
    "X_scaled = sc.fit_transform(X)\n",
    "X = sc.fit_transform(X)"
   ]
  },
  {
   "cell_type": "markdown",
   "id": "2f721ba0",
   "metadata": {},
   "source": [
    "# KFold and Cross Val Score"
   ]
  },
  {
   "cell_type": "code",
   "execution_count": 78,
   "id": "43fbee1b",
   "metadata": {},
   "outputs": [],
   "source": [
    "from sklearn.model_selection import KFold, cross_val_score, cross_val_predict\n",
    "\n",
    "kfold_validation = KFold(8)"
   ]
  },
  {
   "cell_type": "markdown",
   "id": "ee8f5522",
   "metadata": {},
   "source": [
    "# Decision Tree"
   ]
  },
  {
   "cell_type": "code",
   "execution_count": 61,
   "id": "c4c52cfb",
   "metadata": {},
   "outputs": [
    {
     "name": "stdout",
     "output_type": "stream",
     "text": [
      "[0.63851429 0.62914286 0.648      0.628      0.63942857 0.64502857\n",
      " 0.63017143 0.63348571]\n",
      "0.6364714285714286\n",
      "F1 score: 0.6291768541157294\n",
      "Precision: 0.6407968458186346\n",
      "Recall: 0.6179707824694817\n",
      "Accuracy: 0.636\n",
      "ROC AUC: 0.635989188956108\n",
      "Confusion Matrix:\n",
      " [[22904 12117]\n",
      " [13363 21616]]\n",
      "Classification Report:\n",
      "               precision    recall  f1-score   support\n",
      "\n",
      "           0       0.63      0.65      0.64     35021\n",
      "           1       0.64      0.62      0.63     34979\n",
      "\n",
      "    accuracy                           0.64     70000\n",
      "   macro avg       0.64      0.64      0.64     70000\n",
      "weighted avg       0.64      0.64      0.64     70000\n",
      "\n",
      "Decision Tree Run Time -  0:00:02.280416\n"
     ]
    }
   ],
   "source": [
    "from sklearn.tree import DecisionTreeClassifier\n",
    "model=DecisionTreeClassifier()\n",
    "dta_model=DecisionTreeClassifier()\n",
    "\n",
    "start = datetime.datetime.now()\n",
    "results=cross_val_score(model,X,Y,cv=kfold_validation)\n",
    "end = datetime.datetime.now()\n",
    "\n",
    "dta_time = end - start\n",
    "print(results)\n",
    "print(np.mean(results))\n",
    "\n",
    "y_pred = cross_val_predict(model, X, Y, cv=kfold_validation)\n",
    "y_test = Y\n",
    "joblib.dump(dta_model, 'model/Decision_Tree.joblib')\n",
    "\n",
    "# Calculate the F1 score, precision, and recall\n",
    "f1 = f1_score(y_test, y_pred)\n",
    "precision = precision_score(y_test, y_pred)\n",
    "recall = recall_score(y_test, y_pred)\n",
    "\n",
    "print(\"F1 score:\", f1)\n",
    "print(\"Precision:\", precision)\n",
    "print(\"Recall:\", recall)\n",
    "\n",
    "# Calculate the accuracy\n",
    "acc = accuracy_score(y_test, y_pred)\n",
    "\n",
    "# Calculate the ROC AUC score\n",
    "roc_auc = roc_auc_score(y_test, y_pred)\n",
    "\n",
    "# Generate a confusion matrix\n",
    "cm = confusion_matrix(y_test, y_pred)\n",
    "\n",
    "# Generate a classification report\n",
    "cr = classification_report(y_test, y_pred)\n",
    "\n",
    "print(\"Accuracy:\", acc)\n",
    "print(\"ROC AUC:\", roc_auc)\n",
    "print(\"Confusion Matrix:\\n\", cm)\n",
    "print(\"Classification Report:\\n\", cr)\n",
    "\n",
    "print(\"Decision Tree Run Time - \",dta_time)"
   ]
  },
  {
   "cell_type": "markdown",
   "id": "6dba4e15",
   "metadata": {},
   "source": [
    "# SVM SGDClassifier"
   ]
  },
  {
   "cell_type": "code",
   "execution_count": 62,
   "id": "1e1549dd",
   "metadata": {},
   "outputs": [
    {
     "name": "stdout",
     "output_type": "stream",
     "text": [
      "[0.72342857 0.71634286 0.73188571 0.72377143 0.72171429 0.72971429\n",
      " 0.71394286 0.71965714]\n",
      "0.7225571428571429\n",
      "F1 score: 0.6997889771598809\n",
      "Precision: 0.765210899589399\n",
      "Recall: 0.6446725177963921\n",
      "Accuracy: 0.7236\n",
      "ROC AUC: 0.7235526719075333\n",
      "Confusion Matrix:\n",
      " [[28102  6919]\n",
      " [12429 22550]]\n",
      "Classification Report:\n",
      "               precision    recall  f1-score   support\n",
      "\n",
      "           0       0.69      0.80      0.74     35021\n",
      "           1       0.77      0.64      0.70     34979\n",
      "\n",
      "    accuracy                           0.72     70000\n",
      "   macro avg       0.73      0.72      0.72     70000\n",
      "weighted avg       0.73      0.72      0.72     70000\n",
      "\n",
      "SVM SGDClassifier Run Time -  0:00:02.249191\n"
     ]
    }
   ],
   "source": [
    "from sklearn.svm import SVC\n",
    "from sklearn.linear_model import SGDClassifier\n",
    "\n",
    "sgd = SGDClassifier(loss='hinge')\n",
    "\n",
    "\n",
    "start = datetime.datetime.now()\n",
    "results=cross_val_score(sgd,X,Y,cv=kfold_validation)\n",
    "end = datetime.datetime.now()\n",
    "\n",
    "svm_sgd_time = end - start\n",
    "\n",
    "print(results)\n",
    "print(np.mean(results))\n",
    "svm_sgd=np.mean(results)\n",
    "\n",
    "y_pred = cross_val_predict(sgd, X, Y, cv=kfold_validation)\n",
    "y_test = Y\n",
    "joblib.dump(sgd, 'model/SGDClassifier.joblib')\n",
    "\n",
    "# Calculate the F1 score, precision, and recall\n",
    "f1 = f1_score(y_test, y_pred)\n",
    "precision = precision_score(y_test, y_pred)\n",
    "recall = recall_score(y_test, y_pred)\n",
    "\n",
    "print(\"F1 score:\", f1)\n",
    "print(\"Precision:\", precision)\n",
    "print(\"Recall:\", recall)\n",
    "\n",
    "# Calculate the accuracy\n",
    "acc = accuracy_score(y_test, y_pred)\n",
    "\n",
    "# Calculate the ROC AUC score\n",
    "roc_auc = roc_auc_score(y_test, y_pred)\n",
    "\n",
    "# Generate a confusion matrix\n",
    "cm = confusion_matrix(y_test, y_pred)\n",
    "\n",
    "# Generate a classification report\n",
    "cr = classification_report(y_test, y_pred)\n",
    "\n",
    "print(\"Accuracy:\", acc)\n",
    "print(\"ROC AUC:\", roc_auc)\n",
    "print(\"Confusion Matrix:\\n\", cm)\n",
    "print(\"Classification Report:\\n\", cr)\n",
    "\n",
    "print(\"SVM SGDClassifier Run Time - \", svm_sgd_time)"
   ]
  },
  {
   "cell_type": "markdown",
   "id": "ab6c8452",
   "metadata": {},
   "source": [
    "# Random Forest Classifier"
   ]
  },
  {
   "cell_type": "code",
   "execution_count": 58,
   "id": "f5b2ca93",
   "metadata": {},
   "outputs": [
    {
     "name": "stdout",
     "output_type": "stream",
     "text": [
      "[0.70285714 0.7016     0.7152     0.69954286 0.71485714 0.70651429\n",
      " 0.69725714 0.70308571]\n",
      "0.7051142857142858\n",
      "F1 score: 0.7042488117973091\n",
      "Precision: 0.7074486498961459\n",
      "Recall: 0.7010777895308614\n",
      "Accuracy: 0.7057571428571429\n",
      "ROC AUC: 0.7057543369287043\n",
      "Confusion Matrix:\n",
      " [[24880 10141]\n",
      " [10456 24523]]\n",
      "Classification Report:\n",
      "               precision    recall  f1-score   support\n",
      "\n",
      "           0       0.70      0.71      0.71     35021\n",
      "           1       0.71      0.70      0.70     34979\n",
      "\n",
      "    accuracy                           0.71     70000\n",
      "   macro avg       0.71      0.71      0.71     70000\n",
      "weighted avg       0.71      0.71      0.71     70000\n",
      "\n",
      "Random Forest Run Time -  0:00:56.387411\n"
     ]
    }
   ],
   "source": [
    "from sklearn.ensemble import RandomForestClassifier\n",
    "model=RandomForestClassifier()\n",
    "start = datetime.datetime.now()\n",
    "results=cross_val_score(model,X,Y,cv=kfold_validation)\n",
    "end = datetime.datetime.now()\n",
    "rf_time = end - start\n",
    "print(results)\n",
    "print(np.mean(results))\n",
    "rfA=np.mean(results)\n",
    "\n",
    "y_pred = cross_val_predict(model, X, Y, cv=kfold_validation)\n",
    "y_test = Y\n",
    "joblib.dump(model, 'model/RandomForestClassifier.joblib')\n",
    "\n",
    "# Calculate the F1 score, precision, and recall\n",
    "f1 = f1_score(y_test, y_pred)\n",
    "precision = precision_score(y_test, y_pred)\n",
    "recall = recall_score(y_test, y_pred)\n",
    "\n",
    "print(\"F1 score:\", f1)\n",
    "print(\"Precision:\", precision)\n",
    "print(\"Recall:\", recall)\n",
    "\n",
    "# Calculate the accuracy\n",
    "acc = accuracy_score(y_test, y_pred)\n",
    "\n",
    "# Calculate the ROC AUC score\n",
    "roc_auc = roc_auc_score(y_test, y_pred)\n",
    "\n",
    "# Generate a confusion matrix\n",
    "cm = confusion_matrix(y_test, y_pred)\n",
    "\n",
    "# Generate a classification report\n",
    "cr = classification_report(y_test, y_pred)\n",
    "\n",
    "print(\"Accuracy:\", acc)\n",
    "print(\"ROC AUC:\", roc_auc)\n",
    "print(\"Confusion Matrix:\\n\", cm)\n",
    "print(\"Classification Report:\\n\", cr)\n",
    "\n",
    "\n",
    "print(\"Random Forest Run Time - \",rf_time)"
   ]
  },
  {
   "cell_type": "markdown",
   "id": "c9b26135",
   "metadata": {},
   "source": [
    "# KNN Classifier (n=3)"
   ]
  },
  {
   "cell_type": "code",
   "execution_count": 79,
   "id": "772bc1f7",
   "metadata": {},
   "outputs": [
    {
     "name": "stdout",
     "output_type": "stream",
     "text": [
      "[0.6808     0.6792     0.68914286 0.67851429 0.68377143 0.68468571\n",
      " 0.676      0.67817143]\n",
      "0.6812857142857143\n",
      "F1 score: 0.6783077632944976\n",
      "Precision: 0.6842870857940826\n",
      "Recall: 0.6724320306469596\n",
      "Accuracy: 0.6812857142857143\n",
      "ROC AUC: 0.6812804052609459\n",
      "Confusion Matrix:\n",
      " [[24169 10852]\n",
      " [11458 23521]]\n",
      "Classification Report:\n",
      "               precision    recall  f1-score   support\n",
      "\n",
      "           0       0.68      0.69      0.68     35021\n",
      "           1       0.68      0.67      0.68     34979\n",
      "\n",
      "    accuracy                           0.68     70000\n",
      "   macro avg       0.68      0.68      0.68     70000\n",
      "weighted avg       0.68      0.68      0.68     70000\n",
      "\n",
      "KNN Classifier (n=3) Run Time -  0:00:27.981100\n"
     ]
    }
   ],
   "source": [
    "from sklearn.neighbors import KNeighborsClassifier\n",
    "model = KNeighborsClassifier(n_neighbors=3)\n",
    "start = datetime.datetime.now()\n",
    "results=cross_val_score(model,X,Y,cv=kfold_validation)\n",
    "end = datetime.datetime.now()\n",
    "knnA_three_time = end - start\n",
    "print(results)\n",
    "print(np.mean(results))\n",
    "knnA_three=np.mean(results)\n",
    "\n",
    "\n",
    "y_pred = cross_val_predict(model, X, Y, cv=kfold_validation)\n",
    "y_test = Y\n",
    "joblib.dump(model, 'model/KNeighborsClassifierThree.joblib')\n",
    "\n",
    "# Calculate the F1 score, precision, and recall\n",
    "f1 = f1_score(y_test, y_pred)\n",
    "precision = precision_score(y_test, y_pred)\n",
    "recall = recall_score(y_test, y_pred)\n",
    "\n",
    "print(\"F1 score:\", f1)\n",
    "print(\"Precision:\", precision)\n",
    "print(\"Recall:\", recall)\n",
    "\n",
    "# Calculate the accuracy\n",
    "acc = accuracy_score(y_test, y_pred)\n",
    "\n",
    "# Calculate the ROC AUC score\n",
    "roc_auc = roc_auc_score(y_test, y_pred)\n",
    "\n",
    "# Generate a confusion matrix\n",
    "cm = confusion_matrix(y_test, y_pred)\n",
    "\n",
    "# Generate a classification report\n",
    "cr = classification_report(y_test, y_pred)\n",
    "\n",
    "print(\"Accuracy:\", acc)\n",
    "print(\"ROC AUC:\", roc_auc)\n",
    "print(\"Confusion Matrix:\\n\", cm)\n",
    "print(\"Classification Report:\\n\", cr)\n",
    "\n",
    "print(\"KNN Classifier (n=3) Run Time - \",knnA_three_time)"
   ]
  },
  {
   "cell_type": "markdown",
   "id": "c0f9d3e3",
   "metadata": {},
   "source": [
    "# KNN.Model Evaluation for k=5"
   ]
  },
  {
   "cell_type": "code",
   "execution_count": 80,
   "id": "03f962e6",
   "metadata": {},
   "outputs": [
    {
     "name": "stdout",
     "output_type": "stream",
     "text": [
      "[0.69805714 0.7        0.7        0.69325714 0.70102857 0.70297143\n",
      " 0.69268571 0.69337143]\n",
      "0.6976714285714285\n",
      "F1 score: 0.6941983960696482\n",
      "Precision: 0.7018348623853211\n",
      "Recall: 0.68672632150719\n",
      "Accuracy: 0.6976714285714286\n",
      "ROC AUC: 0.6976648654450658\n",
      "Confusion Matrix:\n",
      " [[24816 10205]\n",
      " [10958 24021]]\n",
      "Classification Report:\n",
      "               precision    recall  f1-score   support\n",
      "\n",
      "           0       0.69      0.71      0.70     35021\n",
      "           1       0.70      0.69      0.69     34979\n",
      "\n",
      "    accuracy                           0.70     70000\n",
      "   macro avg       0.70      0.70      0.70     70000\n",
      "weighted avg       0.70      0.70      0.70     70000\n",
      "\n",
      "KNN Classifier (n=5) Run Time -  0:00:31.229270\n"
     ]
    }
   ],
   "source": [
    "model = KNeighborsClassifier(n_neighbors=5)\n",
    "start = datetime.datetime.now()\n",
    "results=cross_val_score(model,X_scaled,Y,cv=kfold_validation)\n",
    "end = datetime.datetime.now()\n",
    "knnA_five_time = end - start\n",
    "print(results)\n",
    "print(np.mean(results))\n",
    "knnA_five=np.mean(results)\n",
    "\n",
    "y_pred = cross_val_predict(model, X, Y, cv=kfold_validation)\n",
    "y_test = Y\n",
    "joblib.dump(model, 'model/KNeighborsClassifierFive.joblib')\n",
    "\n",
    "# Calculate the F1 score, precision, and recall\n",
    "f1 = f1_score(y_test, y_pred)\n",
    "precision = precision_score(y_test, y_pred)\n",
    "recall = recall_score(y_test, y_pred)\n",
    "\n",
    "print(\"F1 score:\", f1)\n",
    "print(\"Precision:\", precision)\n",
    "print(\"Recall:\", recall)\n",
    "\n",
    "# Calculate the accuracy\n",
    "acc = accuracy_score(y_test, y_pred)\n",
    "\n",
    "# Calculate the ROC AUC score\n",
    "roc_auc = roc_auc_score(y_test, y_pred)\n",
    "\n",
    "# Generate a confusion matrix\n",
    "cm = confusion_matrix(y_test, y_pred)\n",
    "\n",
    "# Generate a classification report\n",
    "cr = classification_report(y_test, y_pred)\n",
    "\n",
    "print(\"Accuracy:\", acc)\n",
    "print(\"ROC AUC:\", roc_auc)\n",
    "print(\"Confusion Matrix:\\n\", cm)\n",
    "print(\"Classification Report:\\n\", cr)\n",
    "\n",
    "\n",
    "print(\"KNN Classifier (n=5) Run Time - \",knnA_five_time)"
   ]
  },
  {
   "cell_type": "markdown",
   "id": "4645df91",
   "metadata": {},
   "source": [
    "# KNN Re-generating Model for K=7"
   ]
  },
  {
   "cell_type": "code",
   "execution_count": 81,
   "id": "e78dc99e",
   "metadata": {},
   "outputs": [
    {
     "name": "stdout",
     "output_type": "stream",
     "text": [
      "[0.70571429 0.70914286 0.70937143 0.70822857 0.71371429 0.71257143\n",
      " 0.70274286 0.70228571]\n",
      "0.7079714285714285\n",
      "F1 score: 0.703593074848476\n",
      "Precision: 0.7138611822167299\n",
      "Recall: 0.693616169701821\n",
      "Accuracy: 0.7079714285714286\n",
      "ROC AUC: 0.7079628205809011\n",
      "Confusion Matrix:\n",
      " [[25296  9725]\n",
      " [10717 24262]]\n",
      "Classification Report:\n",
      "               precision    recall  f1-score   support\n",
      "\n",
      "           0       0.70      0.72      0.71     35021\n",
      "           1       0.71      0.69      0.70     34979\n",
      "\n",
      "    accuracy                           0.71     70000\n",
      "   macro avg       0.71      0.71      0.71     70000\n",
      "weighted avg       0.71      0.71      0.71     70000\n",
      "\n",
      "KNN Classifier (n=7) Run Time -  0:00:34.781758\n"
     ]
    }
   ],
   "source": [
    "model = KNeighborsClassifier(n_neighbors=7)\n",
    "\n",
    "start = datetime.datetime.now()\n",
    "results=cross_val_score(model,X_scaled,Y,cv=kfold_validation)\n",
    "end = datetime.datetime.now()\n",
    "knnA_seven_time = end - start\n",
    "\n",
    "print(results)\n",
    "print(np.mean(results))\n",
    "knnA_seven=np.mean(results)\n",
    "\n",
    "y_pred = cross_val_predict(model, X, Y, cv=kfold_validation)\n",
    "y_test = Y\n",
    "joblib.dump(model, 'model/KNeighborsClassifierSeven.joblib')\n",
    "\n",
    "# Calculate the F1 score, precision, and recall\n",
    "f1 = f1_score(y_test, y_pred)\n",
    "precision = precision_score(y_test, y_pred)\n",
    "recall = recall_score(y_test, y_pred)\n",
    "\n",
    "print(\"F1 score:\", f1)\n",
    "print(\"Precision:\", precision)\n",
    "print(\"Recall:\", recall)\n",
    "\n",
    "# Calculate the accuracy\n",
    "acc = accuracy_score(y_test, y_pred)\n",
    "\n",
    "# Calculate the ROC AUC score\n",
    "roc_auc = roc_auc_score(y_test, y_pred)\n",
    "\n",
    "# Generate a confusion matrix\n",
    "cm = confusion_matrix(y_test, y_pred)\n",
    "\n",
    "# Generate a classification report\n",
    "cr = classification_report(y_test, y_pred)\n",
    "\n",
    "print(\"Accuracy:\", acc)\n",
    "print(\"ROC AUC:\", roc_auc)\n",
    "print(\"Confusion Matrix:\\n\", cm)\n",
    "print(\"Classification Report:\\n\", cr)\n",
    "\n",
    "print(\"KNN Classifier (n=7) Run Time - \", knnA_seven_time)"
   ]
  },
  {
   "cell_type": "markdown",
   "id": "9ba6e41b",
   "metadata": {},
   "source": [
    "# Naive Bayes"
   ]
  },
  {
   "cell_type": "code",
   "execution_count": 82,
   "id": "d49b9e1a",
   "metadata": {},
   "outputs": [
    {
     "name": "stdout",
     "output_type": "stream",
     "text": [
      "[0.71634286 0.71645714 0.71737143 0.71268571 0.71142857 0.71965714\n",
      " 0.70937143 0.71245714]\n",
      "0.7144714285714286\n",
      "F1 score: 0.6838250415249545\n",
      "Precision: 0.765476696415923\n",
      "Recall: 0.6179136053060408\n",
      "Accuracy: 0.7144714285714285\n",
      "ROC AUC: 0.7144135286174418\n",
      "Confusion Matrix:\n",
      " [[28399  6622]\n",
      " [13365 21614]]\n",
      "Classification Report:\n",
      "               precision    recall  f1-score   support\n",
      "\n",
      "           0       0.68      0.81      0.74     35021\n",
      "           1       0.77      0.62      0.68     34979\n",
      "\n",
      "    accuracy                           0.71     70000\n",
      "   macro avg       0.72      0.71      0.71     70000\n",
      "weighted avg       0.72      0.71      0.71     70000\n",
      "\n",
      "Naive Bayes Run Time -  0:00:00.281030\n"
     ]
    }
   ],
   "source": [
    "# Naive Bayes\n",
    "from sklearn.naive_bayes import GaussianNB\n",
    "model = GaussianNB()\n",
    "\n",
    "start = datetime.datetime.now()\n",
    "results=cross_val_score(model,X_scaled,Y,cv=kfold_validation)\n",
    "end = datetime.datetime.now()\n",
    "nbA_time = end - start\n",
    "\n",
    "print(results)\n",
    "print(np.mean(results))\n",
    "nbA=np.mean(results)\n",
    "\n",
    "y_pred = cross_val_predict(model, X, Y, cv=kfold_validation)\n",
    "y_test = Y\n",
    "joblib.dump(model, 'model/GaussianNB.joblib')\n",
    "\n",
    "# Calculate the F1 score, precision, and recall\n",
    "f1 = f1_score(y_test, y_pred)\n",
    "precision = precision_score(y_test, y_pred)\n",
    "recall = recall_score(y_test, y_pred)\n",
    "\n",
    "print(\"F1 score:\", f1)\n",
    "print(\"Precision:\", precision)\n",
    "print(\"Recall:\", recall)\n",
    "\n",
    "# Calculate the accuracy\n",
    "acc = accuracy_score(y_test, y_pred)\n",
    "\n",
    "# Calculate the ROC AUC score\n",
    "roc_auc = roc_auc_score(y_test, y_pred)\n",
    "\n",
    "# Generate a confusion matrix\n",
    "cm = confusion_matrix(y_test, y_pred)\n",
    "\n",
    "# Generate a classification report\n",
    "cr = classification_report(y_test, y_pred)\n",
    "\n",
    "print(\"Accuracy:\", acc)\n",
    "print(\"ROC AUC:\", roc_auc)\n",
    "print(\"Confusion Matrix:\\n\", cm)\n",
    "print(\"Classification Report:\\n\", cr)\n",
    "\n",
    "print(\"Naive Bayes Run Time - \", nbA_time)"
   ]
  },
  {
   "cell_type": "markdown",
   "id": "82c2a7ab",
   "metadata": {},
   "source": [
    "# Gradient Boosting Classifier"
   ]
  },
  {
   "cell_type": "code",
   "execution_count": 83,
   "id": "d020a7cb",
   "metadata": {},
   "outputs": [
    {
     "name": "stdout",
     "output_type": "stream",
     "text": [
      "[0.73325714 0.73348571 0.74411429 0.73245714 0.73508571 0.74011429\n",
      " 0.73085714 0.73531429]\n",
      "0.7355857142857143\n",
      "F1 score: 0.7248182453427692\n",
      "Precision: 0.7550957189765194\n",
      "Recall: 0.6968752680179536\n",
      "Accuracy: 0.7355857142857143\n",
      "ROC AUC: 0.7355625019453578\n",
      "Confusion Matrix:\n",
      " [[27115  7906]\n",
      " [10603 24376]]\n",
      "Classification Report:\n",
      "               precision    recall  f1-score   support\n",
      "\n",
      "           0       0.72      0.77      0.75     35021\n",
      "           1       0.76      0.70      0.72     34979\n",
      "\n",
      "    accuracy                           0.74     70000\n",
      "   macro avg       0.74      0.74      0.74     70000\n",
      "weighted avg       0.74      0.74      0.74     70000\n",
      "\n",
      "Gradient Boosting Classifier Run Time -  0:00:50.139300\n"
     ]
    }
   ],
   "source": [
    "from sklearn.ensemble import GradientBoostingClassifier\n",
    "\n",
    "model = GradientBoostingClassifier()\n",
    "\n",
    "start = datetime.datetime.now()\n",
    "results=cross_val_score(model,X_scaled,Y,cv=kfold_validation)\n",
    "end = datetime.datetime.now()\n",
    "\n",
    "gbc_time = end - start\n",
    "\n",
    "print(results)\n",
    "print(np.mean(results))\n",
    "gbc=np.mean(results)\n",
    "\n",
    "y_pred = cross_val_predict(model, X, Y, cv=kfold_validation)\n",
    "y_test = Y\n",
    "joblib.dump(model, 'model/GradientBoostingClassifier.joblib')\n",
    "\n",
    "# Calculate the F1 score, precision, and recall\n",
    "f1 = f1_score(y_test, y_pred)\n",
    "precision = precision_score(y_test, y_pred)\n",
    "recall = recall_score(y_test, y_pred)\n",
    "\n",
    "print(\"F1 score:\", f1)\n",
    "print(\"Precision:\", precision)\n",
    "print(\"Recall:\", recall)\n",
    "\n",
    "# Calculate the accuracy\n",
    "acc = accuracy_score(y_test, y_pred)\n",
    "\n",
    "# Calculate the ROC AUC score\n",
    "roc_auc = roc_auc_score(y_test, y_pred)\n",
    "\n",
    "# Generate a confusion matrix\n",
    "cm = confusion_matrix(y_test, y_pred)\n",
    "\n",
    "# Generate a classification report\n",
    "cr = classification_report(y_test, y_pred)\n",
    "\n",
    "print(\"Accuracy:\", acc)\n",
    "print(\"ROC AUC:\", roc_auc)\n",
    "print(\"Confusion Matrix:\\n\", cm)\n",
    "print(\"Classification Report:\\n\", cr)\n",
    "\n",
    "print(\"Gradient Boosting Classifier Run Time - \", gbc_time)"
   ]
  },
  {
   "cell_type": "markdown",
   "id": "bc604812",
   "metadata": {},
   "source": [
    "# Gradient Boosting Regressor"
   ]
  },
  {
   "cell_type": "code",
   "execution_count": 87,
   "id": "8cfa8113",
   "metadata": {},
   "outputs": [],
   "source": [
    "# from sklearn.ensemble import GradientBoostingRegressor\n",
    "\n",
    "# model = GradientBoostingRegressor()\n",
    "\n",
    "# start = datetime.datetime.now()\n",
    "# results=cross_val_score(model,X_scaled,Y,cv=kfold_validation)\n",
    "# end = datetime.datetime.now()\n",
    "\n",
    "# gbr_time = end - start\n",
    "\n",
    "# print(results)\n",
    "# print(np.mean(results))\n",
    "# gbr=np.mean(results)\n",
    "\n",
    "# y_pred = cross_val_predict(model, X, Y, cv=kfold_validation)\n",
    "# y_test = Y\n",
    "# joblib.dump(model, 'model/GradientBoostingRegressor.joblib')\n",
    "\n",
    "# # Calculate the F1 score, precision, and recall\n",
    "# f1 = f1_score(y_test, y_pred)\n",
    "# precision = precision_score(y_test, y_pred)\n",
    "# recall = recall_score(y_test, y_pred)\n",
    "\n",
    "# print(\"F1 score:\", f1)\n",
    "# print(\"Precision:\", precision)\n",
    "# print(\"Recall:\", recall)\n",
    "\n",
    "# # Calculate the accuracy\n",
    "# acc = accuracy_score(y_test, y_pred)\n",
    "\n",
    "# # Calculate the ROC AUC score\n",
    "# roc_auc = roc_auc_score(y_test, y_pred)\n",
    "\n",
    "# # Generate a confusion matrix\n",
    "# cm = confusion_matrix(y_test, y_pred)\n",
    "\n",
    "# # Generate a classification report\n",
    "# cr = classification_report(y_test, y_pred)\n",
    "\n",
    "# print(\"Accuracy:\", acc)\n",
    "# print(\"ROC AUC:\", roc_auc)\n",
    "# print(\"Confusion Matrix:\\n\", cm)\n",
    "# print(\"Classification Report:\\n\", cr)\n",
    "\n",
    "# print(\"Gradient Boosting Regressor Run Time - \", gbr_time)"
   ]
  },
  {
   "cell_type": "markdown",
   "id": "4c3bc2f6",
   "metadata": {},
   "source": [
    "# Support Vector Machine"
   ]
  },
  {
   "cell_type": "code",
   "execution_count": 85,
   "id": "98c02c7c",
   "metadata": {},
   "outputs": [
    {
     "name": "stdout",
     "output_type": "stream",
     "text": [
      "[0.73257143 0.736      0.74308571 0.72925714 0.73302857 0.73542857\n",
      " 0.7272     0.73428571]\n",
      "0.7338571428571428\n",
      "F1 score: 0.7169037199124727\n",
      "Precision: 0.7651561841123617\n",
      "Recall: 0.674376054203951\n",
      "Accuracy: 0.7338571428571429\n",
      "ROC AUC: 0.7338214756043027\n",
      "Confusion Matrix:\n",
      " [[27781  7240]\n",
      " [11390 23589]]\n",
      "Classification Report:\n",
      "               precision    recall  f1-score   support\n",
      "\n",
      "           0       0.71      0.79      0.75     35021\n",
      "           1       0.77      0.67      0.72     34979\n",
      "\n",
      "    accuracy                           0.73     70000\n",
      "   macro avg       0.74      0.73      0.73     70000\n",
      "weighted avg       0.74      0.73      0.73     70000\n",
      "\n",
      "SVM Run Time -  0:41:15.985765\n"
     ]
    }
   ],
   "source": [
    "from sklearn.svm import SVC\n",
    "model=SVC()\n",
    "\n",
    "start = datetime.datetime.now()\n",
    "results=cross_val_score(model,X_scaled,Y,cv=kfold_validation)\n",
    "end = datetime.datetime.now()\n",
    "\n",
    "svm_time = end - start\n",
    "\n",
    "print(results)\n",
    "print(np.mean(results))\n",
    "svmA=np.mean(results)\n",
    "\n",
    "y_pred = cross_val_predict(model, X, Y, cv=kfold_validation)\n",
    "y_test = Y\n",
    "joblib.dump(model, 'model/SVC.joblib')\n",
    "\n",
    "# Calculate the F1 score, precision, and recall\n",
    "f1 = f1_score(y_test, y_pred)\n",
    "precision = precision_score(y_test, y_pred)\n",
    "recall = recall_score(y_test, y_pred)\n",
    "\n",
    "print(\"F1 score:\", f1)\n",
    "print(\"Precision:\", precision)\n",
    "print(\"Recall:\", recall)\n",
    "\n",
    "# Calculate the accuracy\n",
    "acc = accuracy_score(y_test, y_pred)\n",
    "\n",
    "# Calculate the ROC AUC score\n",
    "roc_auc = roc_auc_score(y_test, y_pred)\n",
    "\n",
    "# Generate a confusion matrix\n",
    "cm = confusion_matrix(y_test, y_pred)\n",
    "\n",
    "# Generate a classification report\n",
    "cr = classification_report(y_test, y_pred)\n",
    "\n",
    "print(\"Accuracy:\", acc)\n",
    "print(\"ROC AUC:\", roc_auc)\n",
    "print(\"Confusion Matrix:\\n\", cm)\n",
    "print(\"Classification Report:\\n\", cr)\n",
    "\n",
    "print(\"SVM Run Time - \", svm_time)"
   ]
  },
  {
   "cell_type": "markdown",
   "id": "10ec5bbf",
   "metadata": {},
   "source": [
    "# SVM Linear Kernel"
   ]
  },
  {
   "cell_type": "code",
   "execution_count": 86,
   "id": "1a0f9c4b",
   "metadata": {},
   "outputs": [
    {
     "name": "stdout",
     "output_type": "stream",
     "text": [
      "[0.72457143 0.72628571 0.73497143 0.72285714 0.72845714 0.7312\n",
      " 0.7192     0.72468571]\n",
      "0.7265285714285714\n",
      "F1 score: 0.7003897140531827\n",
      "Precision: 0.7738465795116553\n",
      "Recall: 0.6396695159953115\n",
      "Accuracy: 0.7265285714285714\n",
      "ROC AUC: 0.7264764872458211\n",
      "Confusion Matrix:\n",
      " [[28482  6539]\n",
      " [12604 22375]]\n",
      "Classification Report:\n",
      "               precision    recall  f1-score   support\n",
      "\n",
      "           0       0.69      0.81      0.75     35021\n",
      "           1       0.77      0.64      0.70     34979\n",
      "\n",
      "    accuracy                           0.73     70000\n",
      "   macro avg       0.73      0.73      0.72     70000\n",
      "weighted avg       0.73      0.73      0.72     70000\n",
      "\n",
      "SVM Linear Kernel Run Time -  0:22:36.683116\n"
     ]
    }
   ],
   "source": [
    "svm = SVC(kernel= 'linear', random_state=1, C=0.1)\n",
    "\n",
    "start = datetime.datetime.now()\n",
    "results=cross_val_score(svm,X_scaled,Y,cv=kfold_validation)\n",
    "end = datetime.datetime.now()\n",
    "\n",
    "svm_linear_kernel_time = end - start\n",
    "\n",
    "print(results)\n",
    "print(np.mean(results))\n",
    "svm_linear_kernel=np.mean(results)\n",
    "\n",
    "y_pred = cross_val_predict(svm, X, Y, cv=kfold_validation)\n",
    "y_test = Y\n",
    "joblib.dump(model, 'model/svm_linear.joblib')\n",
    "\n",
    "# Calculate the F1 score, precision, and recall\n",
    "f1 = f1_score(y_test, y_pred)\n",
    "precision = precision_score(y_test, y_pred)\n",
    "recall = recall_score(y_test, y_pred)\n",
    "\n",
    "print(\"F1 score:\", f1)\n",
    "print(\"Precision:\", precision)\n",
    "print(\"Recall:\", recall)\n",
    "\n",
    "# Calculate the accuracy\n",
    "acc = accuracy_score(y_test, y_pred)\n",
    "\n",
    "# Calculate the ROC AUC score\n",
    "roc_auc = roc_auc_score(y_test, y_pred)\n",
    "\n",
    "# Generate a confusion matrix\n",
    "cm = confusion_matrix(y_test, y_pred)\n",
    "\n",
    "# Generate a classification report\n",
    "cr = classification_report(y_test, y_pred)\n",
    "\n",
    "print(\"Accuracy:\", acc)\n",
    "print(\"ROC AUC:\", roc_auc)\n",
    "print(\"Confusion Matrix:\\n\", cm)\n",
    "print(\"Classification Report:\\n\", cr)\n",
    "\n",
    "print(\"SVM Linear Kernel Run Time - \", svm_linear_kernel_time)"
   ]
  },
  {
   "cell_type": "code",
   "execution_count": 118,
   "id": "12d9b377",
   "metadata": {},
   "outputs": [],
   "source": [
    "mlp_score = 0.8226285714285714\n",
    "tabnet_score = 0.6526666666666667"
   ]
  },
  {
   "cell_type": "markdown",
   "id": "932a7c65",
   "metadata": {},
   "source": [
    "# Accuracy Plotting"
   ]
  },
  {
   "cell_type": "code",
   "execution_count": 119,
   "id": "6b70ab36",
   "metadata": {},
   "outputs": [
    {
     "data": {
      "image/png": "[encoded data removed]",
      "text/plain": [
       "<Figure size 1080x360 with 1 Axes>"
      ]
     },
     "metadata": {
      "needs_background": "light"
     },
     "output_type": "display_data"
    }
   ],
   "source": [
    "import matplotlib.pyplot as plt\n",
    "fig = plt.figure(figsize = (15, 5))\n",
    "\n",
    "algo = ['Decision \\nTree', 'Random \\nForest', 'KNN=3', 'KNN=5', 'KNN=7', 'Naive \\nBayes', 'Gradient \\nBoosting \\nClassifier', 'SVM', 'SVM \\nLinear \\nKernel', 'SVM \\nSGDClassifier', 'MLP', 'Tabnet']\n",
    "\n",
    "algo_accuracy = [dtA, rfA, knnA_three, knnA_five, knnA_seven, nbA, gbc, svmA, svm_linear_kernel, svm_sgd, mlp_score, tabnet_score]\n",
    "\n",
    "plt.bar(algo, algo_accuracy, color ='blue', width=0.6)\n",
    "\n",
    "plt.xlabel(\"Algorithms\")\n",
    "plt.ylabel(\"Accuracy\")\n",
    "plt.title(\"Accuracy Analysis of Every Algorithm\")\n",
    "plt.show()"
   ]
  },
  {
   "cell_type": "markdown",
   "id": "c4ca9ab1",
   "metadata": {},
   "source": [
    "# Plotting Run Time of every Algorithm (Microseconds)"
   ]
  },
  {
   "cell_type": "code",
   "execution_count": 120,
   "id": "b4cba0c8",
   "metadata": {},
   "outputs": [],
   "source": [
    "dta_time_micro= dta_time / datetime.timedelta(microseconds=1)\n",
    "rf_time_micro = rf_time / datetime.timedelta(microseconds=1)\n",
    "knnA_three_time_micro = knnA_three_time / datetime.timedelta(microseconds=1)\n",
    "knnA_five_time_micro = knnA_five_time / datetime.timedelta(microseconds=1)\n",
    "knnA_seven_time_micro = knnA_seven_time / datetime.timedelta(microseconds=1)\n",
    "nbA_time_micro = nbA_time / datetime.timedelta(microseconds=1)\n",
    "gbc_time_micro = gbc_time / datetime.timedelta(microseconds=1)\n",
    "svm_time_micro = svm_time / datetime.timedelta(microseconds=1)\n",
    "svm_linear_kernel_time_micro = svm_linear_kernel_time / datetime.timedelta(microseconds=1)\n",
    "svm_sgd_time_micro = svm_sgd_time / datetime.timedelta(microseconds=1)\n",
    "tabnet_time_micro = 1873610.0\n",
    "mlp_time_micro = 1021559788.0"
   ]
  },
  {
   "cell_type": "code",
   "execution_count": 121,
   "id": "f640f5bc",
   "metadata": {},
   "outputs": [
    {
     "data": {
      "image/png": "[encoded data removed]",
      "text/plain": [
       "<Figure size 1080x360 with 1 Axes>"
      ]
     },
     "metadata": {
      "needs_background": "light"
     },
     "output_type": "display_data"
    }
   ],
   "source": [
    "fig = plt.figure(figsize = (15, 5))\n",
    "algo = ['Decision \\nTree', 'Random \\nForest', 'KNN=3', 'KNN=5', 'KNN=7', 'Naive \\nBayes', 'Gradient\\nBoosting\\nClassifier', 'SVM', 'SVM\\nLinear\\nKernel', 'SVM \\nSGDClassifier', 'Tabnet', 'MLP']\n",
    "\n",
    "algo_run_time = [dta_time_micro, rf_time_micro, knnA_three_time_micro, knnA_five_time_micro, knnA_seven_time_micro, nbA_time_micro, gbc_time_micro, svm_time_micro, svm_linear_kernel_time_micro, svm_sgd_time_micro, tabnet_time_micro, mlp_time_micro]\n",
    "\n",
    "plt.bar(algo, algo_run_time, color ='maroon', width=0.7)\n",
    "\n",
    "plt.xlabel(\"Algorithms\")\n",
    "plt.ylabel(\"Run Time\")\n",
    "plt.title(\"Run Time Analysis of Every Algorithm\")\n",
    "plt.show()"
   ]
  },
  {
   "cell_type": "code",
   "execution_count": null,
   "id": "f482e019",
   "metadata": {},
   "outputs": [],
   "source": []
  },
  {
   "cell_type": "code",
   "execution_count": null,
   "id": "782a7915",
   "metadata": {},
   "outputs": [],
   "source": []
  }
 ],
 "metadata": {
  "kernelspec": {
   "display_name": "Python 3 (ipykernel)",
   "language": "python",
   "name": "python3"
  },
  "language_info": {
   "codemirror_mode": {
    "name": "ipython",
    "version": 3
   },
   "file_extension": ".py",
   "mimetype": "text/x-python",
   "name": "python",
   "nbconvert_exporter": "python",
   "pygments_lexer": "ipython3",
   "version": "3.9.12"
  }
 },
 "nbformat": 4,
 "nbformat_minor": 5
}
